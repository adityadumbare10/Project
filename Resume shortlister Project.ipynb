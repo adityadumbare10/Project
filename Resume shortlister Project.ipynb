{
 "cells": [
  {
   "cell_type": "markdown",
   "id": "489d5631",
   "metadata": {},
   "source": [
    "# </html>\n",
    "<h1 style=\"text-align:center;color:red;background-color:powderred;font-size:500%\">Resume Shortlister</h1>\n",
    "<html>"
   ]
  },
  {
   "cell_type": "markdown",
   "id": "f58dfa3e",
   "metadata": {},
   "source": [
    "."
   ]
  },
  {
   "cell_type": "markdown",
   "id": "f4812492",
   "metadata": {},
   "source": [
    "."
   ]
  },
  {
   "cell_type": "markdown",
   "id": "f09d6444",
   "metadata": {},
   "source": [
    "."
   ]
  },
  {
   "cell_type": "markdown",
   "id": "1019be37",
   "metadata": {},
   "source": [
    "# <html>\n",
    "<img src=\"https://s.wsj.net/public/resources/images/OG-DN954_201912_GR_20191213124716.gif\" style=\"width:1000px;height:600px;\"/>\n",
    "</html>"
   ]
  },
  {
   "cell_type": "markdown",
   "id": "2158a0e9",
   "metadata": {},
   "source": [
    ","
   ]
  },
  {
   "cell_type": "markdown",
   "id": "a73c9df6",
   "metadata": {},
   "source": [
    "# Importing Liabraries"
   ]
  },
  {
   "cell_type": "code",
   "execution_count": 100,
   "id": "f7b6d94e",
   "metadata": {},
   "outputs": [],
   "source": [
    "import pandas as pd\n",
    "import numpy as np\n",
    "import re\n",
    "from sklearn.feature_extraction.text import TfidfVectorizer\n",
    "from sklearn.pipeline import Pipeline\n",
    "from sklearn.preprocessing import StandardScaler\n",
    "from sklearn.svm import SVC\n",
    "from sklearn.ensemble import VotingClassifier\n",
    "from sklearn.tree import DecisionTreeClassifier\n",
    "from sklearn.ensemble import RandomForestClassifier\n",
    "from sklearn.model_selection import GridSearchCV\n",
    "from sklearn.utils import resample\n",
    "import PyPDF2\n",
    "import warnings \n",
    "warnings.filterwarnings('ignore')"
   ]
  },
  {
   "cell_type": "code",
   "execution_count": 101,
   "id": "732c38e6",
   "metadata": {},
   "outputs": [],
   "source": [
    "desired_skills = ['machine learning', 'data analysis', 'python', 'statistics']"
   ]
  },
  {
   "cell_type": "code",
   "execution_count": 102,
   "id": "5d4c7841",
   "metadata": {},
   "outputs": [],
   "source": [
    "import PyPDF2\n",
    "\n",
    "resumes_df = pd.DataFrame(columns=['filename', 'text'])\n",
    "for filename in ['CV___Adarsh_Tayade (3).pdf','Anuradha Resume.pdf','Aliasgar Resume.pdf','Aditya  Resume (1).pdf','Darshan Resume data Science.pdf',\n",
    "                'Gauri D. Auti Resume .pdf','College_Resume.pdf','Ishwari Resume.pdf','Magadh Resume updated.pdf','Poorvi Resume.pdf']:\n",
    "    with open(filename, 'rb') as doc:\n",
    "        pdf_reader = PyPDF2.PdfReader(doc)\n",
    "        text = \"\"\n",
    "        for i in range(len(pdf_reader.pages)):\n",
    "            page = pdf_reader.pages[i]\n",
    "        \n",
    "            # Extract the text from the page\n",
    "            page_text = page.extract_text()\n",
    "        \n",
    "            # Add the page text to the overall text variable\n",
    "            text += page_text\n",
    "        \n",
    "        resumes_df = resumes_df.append({'filename': filename, 'text': text}, ignore_index=True)"
   ]
  },
  {
   "cell_type": "code",
   "execution_count": 103,
   "id": "e25ba00d",
   "metadata": {},
   "outputs": [],
   "source": [
    "resumes_df['word_count'] = resumes_df['text'].apply(lambda x: len(x.split()))\n",
    "resumes_df['char_count'] = resumes_df['text'].apply(lambda x: len(x))\n",
    "resumes_df['education_level'] = resumes_df['text'].apply(lambda x: ('Bachelor' if re.search('Bachelor', x, re.IGNORECASE) else 'Unknown'))\n",
    "resumes_df['work_experience'] = resumes_df['text'].apply(lambda x: re.search(r'\\d+ years of experience', x, re.IGNORECASE).group(0)[:-16] if re.search(r'\\d+ years of experience', x, re.IGNORECASE) else 0)"
   ]
  },
  {
   "cell_type": "code",
   "execution_count": 104,
   "id": "54655560",
   "metadata": {},
   "outputs": [],
   "source": [
    "vectorizer = TfidfVectorizer(vocabulary=desired_skills, lowercase=True)\n",
    "skills_counts = vectorizer.fit_transform(resumes_df['text'])\n",
    "skills_df = pd.DataFrame(skills_counts.toarray(), columns=vectorizer.vocabulary_)\n",
    "resumes_df = pd.concat([resumes_df, skills_df], axis=1)"
   ]
  },
  {
   "cell_type": "code",
   "execution_count": 105,
   "id": "d8ad8810",
   "metadata": {},
   "outputs": [],
   "source": [
    "feature_cols = ['word_count', 'char_count', 'education_level', 'work_experience'] + list(desired_skills) "
   ]
  },
  {
   "cell_type": "code",
   "execution_count": 106,
   "id": "fbbf666c",
   "metadata": {},
   "outputs": [],
   "source": [
    "def calculate_resume_score(row):\n",
    "    score = 0\n",
    "    for skill in desired_skills:\n",
    "        if row[skill] == 1:\n",
    "            score += 1\n",
    "    score += row['word_count'] / 100\n",
    "    score += row['char_count'] / 1000\n",
    "    if row['education_level'] == 'Bachelor':\n",
    "        score += 1\n",
    "    score += int(row['work_experience'])\n",
    "    return score"
   ]
  },
  {
   "cell_type": "code",
   "execution_count": 107,
   "id": "74a774fd",
   "metadata": {},
   "outputs": [],
   "source": [
    "resumes_df['score'] = resumes_df.apply(calculate_resume_score, axis = 1)"
   ]
  },
  {
   "cell_type": "code",
   "execution_count": 108,
   "id": "405bbcc8",
   "metadata": {},
   "outputs": [],
   "source": [
    "# Oversample minority class\n",
    "scores = resumes_df['score']\n",
    "X_resampled, scores_resampled = resample(skills_counts, scores, replace = True, n_samples = 10, random_state = 42)"
   ]
  },
  {
   "cell_type": "code",
   "execution_count": 109,
   "id": "94489808",
   "metadata": {},
   "outputs": [],
   "source": [
    "# define the number of bins\n",
    "num_bins = 5\n",
    "# use pd.qcut to create categorical bins for the scores based on quantiles\n",
    "resumes_df['score'] = pd.qcut(resumes_df['score'], q=num_bins, labels=False, duplicates='drop')\n",
    "# get the categories as integers\n",
    "scores_resampled = np.array(resumes_df['score'])"
   ]
  },
  {
   "cell_type": "code",
   "execution_count": 110,
   "id": "3e586662",
   "metadata": {},
   "outputs": [],
   "source": [
    "svm_grid = GridSearchCV(SVC(), svm_param_grid, cv=2, n_jobs=-1)\n",
    "dt_grid = GridSearchCV(DecisionTreeClassifier(), dt_param_grid, cv=2, n_jobs=-1)\n",
    "svm_grid.fit(X_resampled, scores_resampled)\n",
    "dt_grid.fit(X_resampled, scores_resampled)\n",
    "svm_best = svm_grid.best_estimator_\n",
    "dt_best = dt_grid.best_estimator_"
   ]
  },
  {
   "cell_type": "code",
   "execution_count": 111,
   "id": "c95696da",
   "metadata": {},
   "outputs": [],
   "source": [
    "rf_best = RandomForestClassifier(max_depth = 10, min_samples_split = 10, n_estimators = 100, random_state = 42)\n",
    "estimators = [('svm', svm_best), ('dt', dt_best), ('rf', rf_best)]\n",
    "voting_classifier = VotingClassifier(estimators)"
   ]
  },
  {
   "cell_type": "code",
   "execution_count": 112,
   "id": "7f16bf75",
   "metadata": {},
   "outputs": [
    {
     "data": {
      "text/html": [
       "<style>#sk-container-id-3 {color: black;background-color: white;}#sk-container-id-3 pre{padding: 0;}#sk-container-id-3 div.sk-toggleable {background-color: white;}#sk-container-id-3 label.sk-toggleable__label {cursor: pointer;display: block;width: 100%;margin-bottom: 0;padding: 0.3em;box-sizing: border-box;text-align: center;}#sk-container-id-3 label.sk-toggleable__label-arrow:before {content: \"▸\";float: left;margin-right: 0.25em;color: #696969;}#sk-container-id-3 label.sk-toggleable__label-arrow:hover:before {color: black;}#sk-container-id-3 div.sk-estimator:hover label.sk-toggleable__label-arrow:before {color: black;}#sk-container-id-3 div.sk-toggleable__content {max-height: 0;max-width: 0;overflow: hidden;text-align: left;background-color: #f0f8ff;}#sk-container-id-3 div.sk-toggleable__content pre {margin: 0.2em;color: black;border-radius: 0.25em;background-color: #f0f8ff;}#sk-container-id-3 input.sk-toggleable__control:checked~div.sk-toggleable__content {max-height: 200px;max-width: 100%;overflow: auto;}#sk-container-id-3 input.sk-toggleable__control:checked~label.sk-toggleable__label-arrow:before {content: \"▾\";}#sk-container-id-3 div.sk-estimator input.sk-toggleable__control:checked~label.sk-toggleable__label {background-color: #d4ebff;}#sk-container-id-3 div.sk-label input.sk-toggleable__control:checked~label.sk-toggleable__label {background-color: #d4ebff;}#sk-container-id-3 input.sk-hidden--visually {border: 0;clip: rect(1px 1px 1px 1px);clip: rect(1px, 1px, 1px, 1px);height: 1px;margin: -1px;overflow: hidden;padding: 0;position: absolute;width: 1px;}#sk-container-id-3 div.sk-estimator {font-family: monospace;background-color: #f0f8ff;border: 1px dotted black;border-radius: 0.25em;box-sizing: border-box;margin-bottom: 0.5em;}#sk-container-id-3 div.sk-estimator:hover {background-color: #d4ebff;}#sk-container-id-3 div.sk-parallel-item::after {content: \"\";width: 100%;border-bottom: 1px solid gray;flex-grow: 1;}#sk-container-id-3 div.sk-label:hover label.sk-toggleable__label {background-color: #d4ebff;}#sk-container-id-3 div.sk-serial::before {content: \"\";position: absolute;border-left: 1px solid gray;box-sizing: border-box;top: 0;bottom: 0;left: 50%;z-index: 0;}#sk-container-id-3 div.sk-serial {display: flex;flex-direction: column;align-items: center;background-color: white;padding-right: 0.2em;padding-left: 0.2em;position: relative;}#sk-container-id-3 div.sk-item {position: relative;z-index: 1;}#sk-container-id-3 div.sk-parallel {display: flex;align-items: stretch;justify-content: center;background-color: white;position: relative;}#sk-container-id-3 div.sk-item::before, #sk-container-id-3 div.sk-parallel-item::before {content: \"\";position: absolute;border-left: 1px solid gray;box-sizing: border-box;top: 0;bottom: 0;left: 50%;z-index: -1;}#sk-container-id-3 div.sk-parallel-item {display: flex;flex-direction: column;z-index: 1;position: relative;background-color: white;}#sk-container-id-3 div.sk-parallel-item:first-child::after {align-self: flex-end;width: 50%;}#sk-container-id-3 div.sk-parallel-item:last-child::after {align-self: flex-start;width: 50%;}#sk-container-id-3 div.sk-parallel-item:only-child::after {width: 0;}#sk-container-id-3 div.sk-dashed-wrapped {border: 1px dashed gray;margin: 0 0.4em 0.5em 0.4em;box-sizing: border-box;padding-bottom: 0.4em;background-color: white;}#sk-container-id-3 div.sk-label label {font-family: monospace;font-weight: bold;display: inline-block;line-height: 1.2em;}#sk-container-id-3 div.sk-label-container {text-align: center;}#sk-container-id-3 div.sk-container {/* jupyter's `normalize.less` sets `[hidden] { display: none; }` but bootstrap.min.css set `[hidden] { display: none !important; }` so we also need the `!important` here to be able to override the default hidden behavior on the sphinx rendered scikit-learn.org. See: https://github.com/scikit-learn/scikit-learn/issues/21755 */display: inline-block !important;position: relative;}#sk-container-id-3 div.sk-text-repr-fallback {display: none;}</style><div id=\"sk-container-id-3\" class=\"sk-top-container\"><div class=\"sk-text-repr-fallback\"><pre>VotingClassifier(estimators=[(&#x27;svm&#x27;, SVC(C=0.1, kernel=&#x27;linear&#x27;)),\n",
       "                             (&#x27;dt&#x27;,\n",
       "                              DecisionTreeClassifier(max_depth=5,\n",
       "                                                     min_samples_split=5)),\n",
       "                             (&#x27;rf&#x27;,\n",
       "                              RandomForestClassifier(max_depth=10,\n",
       "                                                     min_samples_split=10,\n",
       "                                                     random_state=42))])</pre><b>In a Jupyter environment, please rerun this cell to show the HTML representation or trust the notebook. <br />On GitHub, the HTML representation is unable to render, please try loading this page with nbviewer.org.</b></div><div class=\"sk-container\" hidden><div class=\"sk-item sk-dashed-wrapped\"><div class=\"sk-label-container\"><div class=\"sk-label sk-toggleable\"><input class=\"sk-toggleable__control sk-hidden--visually\" id=\"sk-estimator-id-9\" type=\"checkbox\" ><label for=\"sk-estimator-id-9\" class=\"sk-toggleable__label sk-toggleable__label-arrow\">VotingClassifier</label><div class=\"sk-toggleable__content\"><pre>VotingClassifier(estimators=[(&#x27;svm&#x27;, SVC(C=0.1, kernel=&#x27;linear&#x27;)),\n",
       "                             (&#x27;dt&#x27;,\n",
       "                              DecisionTreeClassifier(max_depth=5,\n",
       "                                                     min_samples_split=5)),\n",
       "                             (&#x27;rf&#x27;,\n",
       "                              RandomForestClassifier(max_depth=10,\n",
       "                                                     min_samples_split=10,\n",
       "                                                     random_state=42))])</pre></div></div></div><div class=\"sk-parallel\"><div class=\"sk-parallel-item\"><div class=\"sk-item\"><div class=\"sk-label-container\"><div class=\"sk-label sk-toggleable\"><label>svm</label></div></div><div class=\"sk-serial\"><div class=\"sk-item\"><div class=\"sk-estimator sk-toggleable\"><input class=\"sk-toggleable__control sk-hidden--visually\" id=\"sk-estimator-id-10\" type=\"checkbox\" ><label for=\"sk-estimator-id-10\" class=\"sk-toggleable__label sk-toggleable__label-arrow\">SVC</label><div class=\"sk-toggleable__content\"><pre>SVC(C=0.1, kernel=&#x27;linear&#x27;)</pre></div></div></div></div></div></div><div class=\"sk-parallel-item\"><div class=\"sk-item\"><div class=\"sk-label-container\"><div class=\"sk-label sk-toggleable\"><label>dt</label></div></div><div class=\"sk-serial\"><div class=\"sk-item\"><div class=\"sk-estimator sk-toggleable\"><input class=\"sk-toggleable__control sk-hidden--visually\" id=\"sk-estimator-id-11\" type=\"checkbox\" ><label for=\"sk-estimator-id-11\" class=\"sk-toggleable__label sk-toggleable__label-arrow\">DecisionTreeClassifier</label><div class=\"sk-toggleable__content\"><pre>DecisionTreeClassifier(max_depth=5, min_samples_split=5)</pre></div></div></div></div></div></div><div class=\"sk-parallel-item\"><div class=\"sk-item\"><div class=\"sk-label-container\"><div class=\"sk-label sk-toggleable\"><label>rf</label></div></div><div class=\"sk-serial\"><div class=\"sk-item\"><div class=\"sk-estimator sk-toggleable\"><input class=\"sk-toggleable__control sk-hidden--visually\" id=\"sk-estimator-id-12\" type=\"checkbox\" ><label for=\"sk-estimator-id-12\" class=\"sk-toggleable__label sk-toggleable__label-arrow\">RandomForestClassifier</label><div class=\"sk-toggleable__content\"><pre>RandomForestClassifier(max_depth=10, min_samples_split=10, random_state=42)</pre></div></div></div></div></div></div></div></div></div></div>"
      ],
      "text/plain": [
       "VotingClassifier(estimators=[('svm', SVC(C=0.1, kernel='linear')),\n",
       "                             ('dt',\n",
       "                              DecisionTreeClassifier(max_depth=5,\n",
       "                                                     min_samples_split=5)),\n",
       "                             ('rf',\n",
       "                              RandomForestClassifier(max_depth=10,\n",
       "                                                     min_samples_split=10,\n",
       "                                                     random_state=42))])"
      ]
     },
     "execution_count": 112,
     "metadata": {},
     "output_type": "execute_result"
    }
   ],
   "source": [
    "voting_classifier.fit(X_resampled, scores_resampled)"
   ]
  },
  {
   "cell_type": "code",
   "execution_count": 113,
   "id": "63af0ae6",
   "metadata": {},
   "outputs": [],
   "source": [
    "resumes_df['predicted_score'] = voting_classifier.predict(skills_counts)"
   ]
  },
  {
   "cell_type": "code",
   "execution_count": 114,
   "id": "72a41320",
   "metadata": {},
   "outputs": [
    {
     "name": "stdout",
     "output_type": "stream",
     "text": [
      "                     filename  score  predicted_score\n",
      "0  CV___Adarsh_Tayade (3).pdf      3                4\n",
      "2         Aliasgar Resume.pdf      4                4\n",
      "5   Gauri D. Auti Resume .pdf      0                4\n",
      "6          College_Resume.pdf      4                2\n",
      "1         Anuradha Resume.pdf      1                1\n"
     ]
    }
   ],
   "source": [
    "top_resumes = resumes_df.sort_values('predicted_score', ascending = False).head()\n",
    "print(top_resumes[['filename', 'score', 'predicted_score']])"
   ]
  },
  {
   "cell_type": "code",
   "execution_count": null,
   "id": "e6dbafd5",
   "metadata": {},
   "outputs": [],
   "source": []
  }
 ],
 "metadata": {
  "kernelspec": {
   "display_name": "Python 3 (ipykernel)",
   "language": "python",
   "name": "python3"
  },
  "language_info": {
   "codemirror_mode": {
    "name": "ipython",
    "version": 3
   },
   "file_extension": ".py",
   "mimetype": "text/x-python",
   "name": "python",
   "nbconvert_exporter": "python",
   "pygments_lexer": "ipython3",
   "version": "3.9.13"
  }
 },
 "nbformat": 4,
 "nbformat_minor": 5
}
